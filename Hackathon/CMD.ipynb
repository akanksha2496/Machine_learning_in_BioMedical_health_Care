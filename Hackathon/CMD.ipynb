{
  "nbformat": 4,
  "nbformat_minor": 0,
  "metadata": {
    "colab": {
      "name": "CMD.ipynb",
      "provenance": [],
      "collapsed_sections": []
    },
    "kernelspec": {
      "name": "python3",
      "display_name": "Python 3"
    }
  },
  "cells": [
    {
      "cell_type": "code",
      "metadata": {
        "colab": {
          "base_uri": "https://localhost:8080/"
        },
        "id": "Vd4QPX9jtET_",
        "outputId": "848a133b-36ad-4989-e9c6-c87d44b103da"
      },
      "source": [
        "!python3 /content/akankshadewangan_mt19049_hackathon.py \"Training_dataset.csv\" \"New_Validation_Dataset.csv\" \"training_dipeptide_result.csv\" \"testing_dipeptide_result.csv\" \"logistic.txt\" \"svm.txt\" \"randomforest.txt\" \"extraTree.txt\" \"mlp.txt\""
      ],
      "execution_count": 2,
      "outputs": [
        {
          "output_type": "stream",
          "text": [
            "LOGISTIC REGRESSION \n",
            "\n",
            "Accurcay of validation data:  0.673234171793474\n",
            "Mathew correlation :  0.34661876287125726\n",
            "Random forest\n",
            "\n",
            "Accurcaies of test data:  0.8458064013706098\n",
            "Mathew correlation :  0.6920241003576637\n",
            "extra tree classifier \n",
            "\n",
            "Accurcay of the test data:  0.8620823923370454\n",
            "Mathew correlation :  0.7241805793865129\n",
            "MultiLayer classifier (MLP)\n",
            "/usr/local/lib/python3.6/dist-packages/sklearn/neural_network/_multilayer_perceptron.py:571: ConvergenceWarning: Stochastic Optimizer: Maximum iterations (200) reached and the optimization hasn't converged yet.\n",
            "  % self.max_iter, ConvergenceWarning)\n",
            "Accuracies of test data with MLP:  0.7484619577914493\n",
            "Mathew correlation :  0.49762411613526386\n"
          ],
          "name": "stdout"
        }
      ]
    }
  ]
}