{
  "nbformat": 4,
  "nbformat_minor": 0,
  "metadata": {
    "colab": {
      "name": "Sameeksha data_SVM_acc71.42.ipynb",
      "provenance": [],
      "collapsed_sections": []
    },
    "kernelspec": {
      "name": "python3",
      "display_name": "Python 3"
    }
  },
  "cells": [
    {
      "cell_type": "markdown",
      "metadata": {
        "id": "Q6TiUX92kCn3"
      },
      "source": [
        "TEAM MEMBERS:-\n",
        "\n",
        "Priyanka Boral(MT19127)\n",
        "\n",
        "\n",
        "Reecha Kumari Giri(MT19134)\n",
        "\n",
        "\n",
        "Akanksha Dewangan(MT19049)"
      ]
    },
    {
      "cell_type": "markdown",
      "metadata": {
        "id": "unHGPN_kjsh3"
      },
      "source": [
        "Loading data of dipeptide\n",
        "\n",
        "data is loaded from pickle file of dipeptide matrix\n",
        "\n"
      ]
    },
    {
      "cell_type": "code",
      "metadata": {
        "id": "JD3pHdgP868R"
      },
      "source": [
        "import pandas as pd\n",
        "df_train_dipep = pd.read_csv('Dipeptide_Train.csv')\n",
        "df_test_dipep = pd.read_csv('Dipeptide_Test.csv')\n",
        "X = pd.read_pickle('dipeptide_matrix')"
      ],
      "execution_count": 1,
      "outputs": []
    },
    {
      "cell_type": "markdown",
      "metadata": {
        "id": "6rNq6s0QkI_7"
      },
      "source": [
        "Label encoding of target code\n",
        "\n",
        "Feature selection : select k best using F-ANNOVA\n",
        "\n",
        "model :  svm classifier"
      ]
    },
    {
      "cell_type": "code",
      "metadata": {
        "id": "cNP6IMbe-lVC",
        "outputId": "5480fbf4-4cc8-41ca-cb37-41e8018bed97",
        "colab": {
          "base_uri": "https://localhost:8080/"
        }
      },
      "source": [
        "new_test=pd.read_pickle('dipeptide_test_matrix')\n",
        "del df_train_dipep['ID'] \n",
        "test_labels=df_test_dipep['ID']\n",
        "del df_test_dipep['ID']\n",
        "from sklearn import preprocessing  \n",
        "label_encoder = preprocessing.LabelEncoder() \n",
        "df_train_dipep['Type']= label_encoder.fit_transform(df_train_dipep['Type']) \n",
        "label_mapping = dict(zip(label_encoder.classes_, label_encoder.transform(label_encoder.classes_)))\n",
        "y = df_train_dipep['Type']\n",
        "from sklearn.feature_selection import SelectKBest,f_classif\n",
        "sel_f = SelectKBest(score_func=f_classif, k=215)\n",
        "X_new = sel_f.fit_transform(X, y)\n",
        "X_new_test=sel_f.transform(new_test)\n",
        "from sklearn import svm\n",
        "svc = svm.SVC(kernel='rbf', C=3,gamma='scale', class_weight='balanced').fit(X_new, y)\n",
        "from sklearn.model_selection import cross_val_score\n",
        "scores = cross_val_score(svc, X_new, y, cv=10)\n",
        "#use this for svm\n",
        "print(sum(scores)/len(scores))\n",
        "svc = svm.SVC(kernel='rbf', C=5,gamma='scale', class_weight='balanced').fit(X_new, y)\n",
        "# prediction column of test data\n",
        "y_pred=svc.predict(X_new_test)"
      ],
      "execution_count": 2,
      "outputs": [
        {
          "output_type": "stream",
          "text": [
            "0.7107323123382226\n"
          ],
          "name": "stdout"
        }
      ]
    },
    {
      "cell_type": "markdown",
      "metadata": {
        "id": "t2--jE8bkqDD"
      },
      "source": [
        " Label encoding of test data from{0,1} to {1,-1}"
      ]
    },
    {
      "cell_type": "code",
      "metadata": {
        "id": "Q7mt6A5AM7tp"
      },
      "source": [
        "y_pred_temp=[]\n",
        "for i in y_pred:\n",
        "  if i==0:\n",
        "    y_pred_temp.append(1)\n",
        "  else:\n",
        "    y_pred_temp.append(-1)"
      ],
      "execution_count": 3,
      "outputs": []
    },
    {
      "cell_type": "markdown",
      "metadata": {
        "id": "BsxbkiuQk7_C"
      },
      "source": [
        "Save output csv for loading in kaggle."
      ]
    },
    {
      "cell_type": "code",
      "metadata": {
        "id": "hgqRxBudNDWK"
      },
      "source": [
        "#copying to sample file\n",
        "data_res=pd.DataFrame()\n",
        "data_res['ID']=test_labels\n",
        "data_res['Lable']=y_pred_temp\n",
        "data_res.to_csv (r'newnew4_svm_output.csv', index = False, header=True)"
      ],
      "execution_count": 4,
      "outputs": []
    }
  ]
}