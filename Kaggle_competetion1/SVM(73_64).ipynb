{
  "nbformat": 4,
  "nbformat_minor": 0,
  "metadata": {
    "colab": {
      "name": "Untitled120.ipynb",
      "provenance": [],
      "collapsed_sections": []
    },
    "kernelspec": {
      "name": "python3",
      "display_name": "Python 3"
    }
  },
  "cells": [
    {
      "cell_type": "markdown",
      "metadata": {
        "id": "YafKDINqeBW1"
      },
      "source": [
        "TEAM MEMBERS:-\n",
        "\n",
        "Priyanka Boral(MT19127)\n",
        "\n",
        "\n",
        "Reecha Kumari Giri(MT19134)\n",
        "\n",
        "\n",
        "Akanksha Dewangan(MT19049)\n"
      ]
    },
    {
      "cell_type": "markdown",
      "metadata": {
        "id": "08_mdbxcfRlD"
      },
      "source": [
        "Loding data:"
      ]
    },
    {
      "cell_type": "code",
      "metadata": {
        "id": "8czWniYwe3S4"
      },
      "source": [
        "#loading of test train data of amino acid+dipeptide\n",
        "#label encoding of target column\n",
        "import pandas as pd\n",
        "df_train = pd.read_csv('Merged_Train_Data.csv')\n",
        "df_test = pd.read_csv('Merged_Test_Data.csv')\n",
        "del df_train['ID.1']\n",
        "test_labels=df_test['ID.1']\n",
        "del df_test['ID.1']\n",
        "from sklearn import preprocessing  \n",
        "#label encoding\n",
        "label_encoder = preprocessing.LabelEncoder() \n",
        "df_train['Type']= label_encoder.fit_transform(df_train['Type'])\n",
        "label_mapping = dict(zip(label_encoder.classes_, label_encoder.transform(label_encoder.classes_)))\n",
        "#print(label_mapping)\n",
        "X = df_train.iloc[:,:-1]\n",
        "y = df_train['Type']"
      ],
      "execution_count": 2,
      "outputs": []
    },
    {
      "cell_type": "markdown",
      "metadata": {
        "id": "41CgP7JgfViw"
      },
      "source": [
        "Feature selection : select k best using f-ANNOVA\n",
        "\n",
        "Model used : SVM classifier\n",
        "\n",
        "Cross validation : 5-fold\n",
        "\n",
        "Label encoding of target column form {0,1} to {1,-1}\n",
        "\n"
      ]
    },
    {
      "cell_type": "code",
      "metadata": {
        "id": "OFF605TSd6FN",
        "outputId": "d691a102-3277-48be-c40a-0011f2e5f186",
        "colab": {
          "base_uri": "https://localhost:8080/"
        }
      },
      "source": [
        "from sklearn.feature_selection import SelectKBest,f_classif\n",
        "#feature selection\n",
        "sel_f = SelectKBest(score_func=f_classif, k=215)\n",
        "X_new = sel_f.fit_transform(X, y)\n",
        "X_new_test=sel_f.transform(df_test)\n",
        "#print(sel_f.get_support())\n",
        "from sklearn import svm\n",
        "svc_f = svm.SVC(kernel='rbf', C=3, gamma='scale',class_weight='balanced')\n",
        "from sklearn.model_selection import train_test_split,KFold,cross_val_score\n",
        "kfold = KFold(n_splits=5,shuffle=True)\n",
        "#cross validation\n",
        "results = cross_val_score(svc_f, X_new, y, cv=kfold)\n",
        "print(results.mean())\n",
        "svc_f.fit(X_new, y)\n",
        "y_pred=svc_f.predict(X_new_test)\n",
        "y_pred_temp_rf=[]\n",
        "for i in y_pred:\n",
        "   if i==0:\n",
        "     y_pred_temp_rf.append(1)\n",
        "   else:\n",
        "     y_pred_temp_rf.append(-1)\n",
        " #copying to sample file\n",
        "data_res=pd.DataFrame()\n",
        "data_res['ID']=test_labels\n",
        "data_res['Lable']=y_pred_temp_rf\n",
        "data_res.to_csv (r'merged_featureselection_svm.csv', index = False,header=True)"
      ],
      "execution_count": 4,
      "outputs": [
        {
          "output_type": "stream",
          "text": [
            "0.7159788957980026\n"
          ],
          "name": "stdout"
        }
      ]
    }
  ]
}