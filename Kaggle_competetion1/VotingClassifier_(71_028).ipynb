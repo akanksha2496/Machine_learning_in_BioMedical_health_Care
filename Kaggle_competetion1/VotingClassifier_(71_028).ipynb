{
  "nbformat": 4,
  "nbformat_minor": 0,
  "metadata": {
    "colab": {
      "name": "MLBA.ipynb",
      "provenance": [],
      "collapsed_sections": []
    },
    "kernelspec": {
      "name": "python3",
      "display_name": "Python 3"
    }
  },
  "cells": [
    {
      "cell_type": "markdown",
      "metadata": {
        "id": "0vXPjq0SYOzh"
      },
      "source": [
        "TEAM MEMBERS:-\n",
        "\n",
        "Priyanka Boral(MT19127)\n",
        "\n",
        "\n",
        "Reecha Kumari Giri(MT19134)\n",
        "\n",
        "\n",
        "Akanksha Dewangan(MT19049)\n"
      ]
    },
    {
      "cell_type": "code",
      "metadata": {
        "id": "Rq940tiLYMNN"
      },
      "source": [
        "#loading of test train data of amino acid+dipeptide\n",
        "#label encoding of target column\n",
        "import pandas as pd\n",
        "df_train = pd.read_csv('Merged_Train_Data.csv')\n",
        "df_test = pd.read_csv('Merged_Test_Data.csv')\n",
        "del df_train['ID.1']\n",
        "test_labels=df_test['ID.1']\n",
        "del df_test['ID.1']\n",
        "from sklearn import preprocessing  \n",
        "#label encoding\n",
        "label_encoder = preprocessing.LabelEncoder() \n",
        "df_train['Type']= label_encoder.fit_transform(df_train['Type'])\n",
        "label_mapping = dict(zip(label_encoder.classes_, label_encoder.transform(label_encoder.classes_)))\n",
        "#print(label_mapping)\n",
        "X = df_train.iloc[:,:-1]\n",
        "y = df_train['Type']"
      ],
      "execution_count": 1,
      "outputs": []
    },
    {
      "cell_type": "markdown",
      "metadata": {
        "id": "T8__L5RQadhn"
      },
      "source": [
        "Feature selection - select k-best is applied  \n",
        "\n",
        "Mode used-SVM classifier"
      ]
    },
    {
      "cell_type": "code",
      "metadata": {
        "id": "VlvwXpRV0XIU",
        "outputId": "3270e070-4040-40c6-892b-bf7ce67e10ce",
        "colab": {
          "base_uri": "https://localhost:8080/"
        }
      },
      "source": [
        "#score73.64\n",
        "from sklearn.feature_selection import SelectKBest,f_classif\n",
        "#feature selection\n",
        "sel_f = SelectKBest(score_func=f_classif, k=215)\n",
        "X_new = sel_f.fit_transform(X, y)\n",
        "X_new_test=sel_f.transform(df_test)\n",
        "#print(sel_f.get_support())\n",
        "from sklearn import svm\n",
        "svc_f = svm.SVC(kernel='rbf', C=3, gamma='scale',class_weight='balanced')\n",
        "from sklearn.model_selection import train_test_split,KFold,cross_val_score\n",
        "kfold = KFold(n_splits=5,shuffle=True)\n",
        "#cross validation\n",
        "results = cross_val_score(svc_f, X_new, y, cv=kfold)\n",
        "print(results.mean())\n",
        "svc_f.fit(X_new, y)\n",
        "# y_pred=svc.predict(X_new_test)\n",
        "# y_pred_temp_rf=[]\n",
        "# for i in y_pred:\n",
        "#    if i==0:\n",
        "#      y_pred_temp_rf.append(1)\n",
        "#    else:\n",
        "#      y_pred_temp_rf.append(-1)\n",
        "#  #copying to sample file\n",
        "# data_res=pd.DataFrame()\n",
        "# data_res['ID']=test_labels\n",
        "# data_res['Lable']=y_pred_temp_rf\n",
        "# data_res.to_csv (r'merged_featureselection_svm.csv', index = False,header=True)"
      ],
      "execution_count": 2,
      "outputs": [
        {
          "output_type": "stream",
          "text": [
            "0.7179504158927561\n"
          ],
          "name": "stdout"
        },
        {
          "output_type": "execute_result",
          "data": {
            "text/plain": [
              "SVC(C=3, break_ties=False, cache_size=200, class_weight='balanced', coef0=0.0,\n",
              "    decision_function_shape='ovr', degree=3, gamma='scale', kernel='rbf',\n",
              "    max_iter=-1, probability=False, random_state=None, shrinking=True,\n",
              "    tol=0.001, verbose=False)"
            ]
          },
          "metadata": {
            "tags": []
          },
          "execution_count": 2
        }
      ]
    },
    {
      "cell_type": "markdown",
      "metadata": {
        "id": "2q94GyPJarbf"
      },
      "source": [
        "Model- SVM classifier"
      ]
    },
    {
      "cell_type": "code",
      "metadata": {
        "id": "aNEYk6STgA4p",
        "outputId": "47b243ea-d333-47fa-fabd-da7c3884dfdc",
        "colab": {
          "base_uri": "https://localhost:8080/"
        }
      },
      "source": [
        "#71.08\n",
        "from sklearn import svm\n",
        "svc = svm.SVC(kernel='rbf', C=3, gamma='auto')\n",
        "from sklearn.model_selection import train_test_split,KFold,cross_val_score\n",
        "kfold = KFold(n_splits=5,shuffle=True)\n",
        "results = cross_val_score(svc, X, y, cv=kfold)\n",
        "print(results.mean())\n",
        "svc.fit(X, y)\n",
        "# y_pred=svc.predict(df_test)\n",
        "# y_pred_temp_rf=[]\n",
        "# for i in y_pred:\n",
        "#   if i==0:\n",
        "#     y_pred_temp_rf.append(1)\n",
        "#   else:\n",
        "#     y_pred_temp_rf.append(-1)\n",
        "# #copying to sample file\n",
        "# data_res=pd.DataFrame()\n",
        "# data_res['ID']=test_labels\n",
        "# data_res['Lable']=y_pred_temp_rf\n",
        "# data_res.to_csv (r'merged_svm.csv', index = False,header=True)"
      ],
      "execution_count": 3,
      "outputs": [
        {
          "output_type": "stream",
          "text": [
            "0.7254822471668148\n"
          ],
          "name": "stdout"
        },
        {
          "output_type": "execute_result",
          "data": {
            "text/plain": [
              "SVC(C=3, break_ties=False, cache_size=200, class_weight=None, coef0=0.0,\n",
              "    decision_function_shape='ovr', degree=3, gamma='auto', kernel='rbf',\n",
              "    max_iter=-1, probability=False, random_state=None, shrinking=True,\n",
              "    tol=0.001, verbose=False)"
            ]
          },
          "metadata": {
            "tags": []
          },
          "execution_count": 3
        }
      ]
    },
    {
      "cell_type": "markdown",
      "metadata": {
        "id": "q155QTgGaxkJ"
      },
      "source": [
        "Loading of amino acid data along with label encoding of target class.\n",
        "\n",
        "Model used- ExtraTree Classifier"
      ]
    },
    {
      "cell_type": "code",
      "metadata": {
        "id": "B-r3SeOBDrxs",
        "outputId": "fab9e8e4-fe82-4231-f260-87ed2857b488",
        "colab": {
          "base_uri": "https://localhost:8080/"
        }
      },
      "source": [
        "import pandas as pd\n",
        "df_train = pd.read_csv('Amino_acid_Train.csv')\n",
        "df_test = pd.read_csv('Amino_acid_Test.csv')\n",
        "del df_train['ID']\n",
        "test_labels=df_test['ID']\n",
        "del df_test['ID']\n",
        "from sklearn import preprocessing  \n",
        "label_encoder = preprocessing.LabelEncoder() \n",
        "df_train['Type']= label_encoder.fit_transform(df_train['Type'])\n",
        "label_mapping = dict(zip(label_encoder.classes_, label_encoder.transform(label_encoder.classes_)))\n",
        "#print(label_mapping)\n",
        "X_train = df_train.iloc[:,:-1]\n",
        "y_train = df_train['Type']\n",
        "seed = 7\n",
        "num_trees = 120\n",
        "max_features = 7\n",
        "from sklearn.ensemble import ExtraTreesClassifier\n",
        "from sklearn.model_selection import train_test_split,KFold,cross_val_score\n",
        "kfold = KFold(n_splits=5, shuffle=True)\n",
        "model1 = ExtraTreesClassifier(n_estimators=num_trees, criterion='gini',min_samples_split=2, max_features=max_features, min_samples_leaf=1, min_weight_fraction_leaf=0, max_leaf_nodes=None, min_impurity_decrease=0.0, min_impurity_split=None, bootstrap=False, oob_score=False, n_jobs=-1, random_state=False, verbose=0, warm_start=False, class_weight=None, ccp_alpha=0, max_samples=None)\n",
        "results = cross_val_score(model1, X_train, y_train, cv=kfold)\n",
        "print(results.mean())\n",
        "model1.fit(X_train,y_train)"
      ],
      "execution_count": 5,
      "outputs": [
        {
          "output_type": "stream",
          "text": [
            "0.7343470887507066\n"
          ],
          "name": "stdout"
        },
        {
          "output_type": "execute_result",
          "data": {
            "text/plain": [
              "ExtraTreesClassifier(bootstrap=False, ccp_alpha=0, class_weight=None,\n",
              "                     criterion='gini', max_depth=None, max_features=7,\n",
              "                     max_leaf_nodes=None, max_samples=None,\n",
              "                     min_impurity_decrease=0.0, min_impurity_split=None,\n",
              "                     min_samples_leaf=1, min_samples_split=2,\n",
              "                     min_weight_fraction_leaf=0, n_estimators=120, n_jobs=-1,\n",
              "                     oob_score=False, random_state=False, verbose=0,\n",
              "                     warm_start=False)"
            ]
          },
          "metadata": {
            "tags": []
          },
          "execution_count": 5
        }
      ]
    },
    {
      "cell_type": "markdown",
      "metadata": {
        "id": "0Z13hSSUbTCB"
      },
      "source": [
        "Loading of dipeptide data along with label encoding of target class.\n",
        "\n",
        "Model used- SVM Classifier\n",
        "\n",
        "feature selection- select k-best"
      ]
    },
    {
      "cell_type": "code",
      "metadata": {
        "id": "qQHyGc6iD7qw",
        "outputId": "780b4b4e-36c0-4dd3-e080-c9be1c57f19d",
        "colab": {
          "base_uri": "https://localhost:8080/"
        }
      },
      "source": [
        "import pandas as pd\n",
        "df_train_dipep = pd.read_csv('Dipeptide_Train.csv')\n",
        "df_test_dipep = pd.read_csv('Dipeptide_Test.csv')\n",
        "X = pd.read_pickle('dipeptide_matrix')\n",
        "new_test=pd.read_pickle('dipeptide_test_matrix')\n",
        "del df_train_dipep['ID'] \n",
        "test_labels=df_test_dipep['ID']\n",
        "del df_test_dipep['ID']\n",
        "from sklearn import preprocessing  \n",
        "label_encoder = preprocessing.LabelEncoder() \n",
        "df_train_dipep['Type']= label_encoder.fit_transform(df_train_dipep['Type']) \n",
        "label_mapping = dict(zip(label_encoder.classes_, label_encoder.transform(label_encoder.classes_)))\n",
        "y = df_train_dipep['Type']\n",
        "from sklearn.feature_selection import SelectKBest,f_classif\n",
        "sel_f = SelectKBest(score_func=f_classif, k=215)\n",
        "X_new = sel_f.fit_transform(X, y)\n",
        "#X_new_test=sel_f.transform(new_test)\n",
        "from sklearn import svm\n",
        "svc1 = svm.SVC(kernel='rbf', C=3,gamma='scale', class_weight='balanced').fit(X_new, y)\n",
        "from sklearn.model_selection import cross_val_score\n",
        "scores = cross_val_score(svc1, X_new, y, cv=10)\n",
        "#use this for svm\n",
        "print(sum(scores)/len(scores))"
      ],
      "execution_count": 6,
      "outputs": [
        {
          "output_type": "stream",
          "text": [
            "0.7107323123382226\n"
          ],
          "name": "stdout"
        }
      ]
    },
    {
      "cell_type": "markdown",
      "metadata": {
        "id": "GeiTZikdbg-j"
      },
      "source": [
        "Data is merged of Dipeptide and amino acid data set.\n",
        "\n",
        "model used- Voting classifier(('svm_feature', svc_f), ('svm', svc),('Extra tree Classifier',model1),('svm over amino_acid',svc1))"
      ]
    },
    {
      "cell_type": "code",
      "metadata": {
        "id": "tFvLTSGdFO_4",
        "outputId": "1edcf9f7-ac85-42d4-91cd-b3652dfb689b",
        "colab": {
          "base_uri": "https://localhost:8080/"
        }
      },
      "source": [
        "df_train = pd.read_csv('Merged_Train_Data.csv')\n",
        "df_test = pd.read_csv('Merged_Test_Data.csv')\n",
        "del df_train['ID.1']\n",
        "test_labels=df_test['ID.1']\n",
        "del df_test['ID.1']\n",
        "from sklearn import preprocessing  \n",
        "label_encoder = preprocessing.LabelEncoder() \n",
        "df_train['Type']= label_encoder.fit_transform(df_train['Type'])\n",
        "label_mapping = dict(zip(label_encoder.classes_, label_encoder.transform(label_encoder.classes_)))\n",
        "#print(label_mapping)\n",
        "X = df_train.iloc[:,:-1]\n",
        "y = df_train['Type']\n",
        "from sklearn.ensemble import VotingClassifier\n",
        "from sklearn.model_selection import train_test_split,KFold,cross_val_score\n",
        "eclf1 = VotingClassifier(estimators=[\n",
        "      ('svm_feature', svc_f), ('svm', svc),('ETC',model1),('amino_acid',svc1)], voting='hard',n_jobs=10)\n",
        "kfold = KFold(n_splits=5, shuffle=True)\n",
        "eclf1 = eclf1.fit(X, y)\n",
        "results = cross_val_score(eclf1, X, y, cv=kfold)\n",
        "y_pred=eclf1.predict(df_test)\n",
        "results.mean()"
      ],
      "execution_count": 8,
      "outputs": [
        {
          "output_type": "execute_result",
          "data": {
            "text/plain": [
              "0.7254913994993135"
            ]
          },
          "metadata": {
            "tags": []
          },
          "execution_count": 8
        }
      ]
    },
    {
      "cell_type": "markdown",
      "metadata": {
        "id": "3wd1ID9xcKfC"
      },
      "source": [
        "Label encoding of predicted column \n",
        "\n",
        "target csv are generated from here"
      ]
    },
    {
      "cell_type": "code",
      "metadata": {
        "id": "5j4BiOffLBQf"
      },
      "source": [
        "eclf1.fit(X, y)\n",
        "y_pred=eclf1.predict(df_test)\n",
        "y_pred_temp_rf=[]\n",
        "for i in y_pred:\n",
        "  if i==0:\n",
        "    y_pred_temp_rf.append(1)\n",
        "  else:\n",
        "    y_pred_temp_rf.append(-1)\n",
        "#copying to sample file\n",
        "data_res=pd.DataFrame()\n",
        "data_res['ID']=test_labels\n",
        "data_res['Lable']=y_pred_temp_rf\n",
        "data_res.to_csv (r'voting.csv', index = False,header=True)"
      ],
      "execution_count": 9,
      "outputs": []
    }
  ]
}