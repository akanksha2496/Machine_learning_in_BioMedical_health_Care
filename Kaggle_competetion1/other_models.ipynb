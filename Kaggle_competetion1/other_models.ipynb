{
  "nbformat": 4,
  "nbformat_minor": 0,
  "metadata": {
    "colab": {
      "name": "MLBA_A1_try.ipynb",
      "provenance": [],
      "collapsed_sections": []
    },
    "kernelspec": {
      "name": "python3",
      "display_name": "Python 3"
    }
  },
  "cells": [
    {
      "cell_type": "markdown",
      "metadata": {
        "id": "Cxo9eUFN9Plo"
      },
      "source": [
        "TEAM MEMBERS:-\n",
        "\n",
        "Priyanka Boral(MT19127)\n",
        "\n",
        "\n",
        "Reecha Kumari Giri(MT19134)\n",
        "\n",
        "\n",
        "Akanksha Dewangan(MT19049)\n",
        "\n"
      ]
    },
    {
      "cell_type": "code",
      "metadata": {
        "id": "khdaLA6L-6HG"
      },
      "source": [
        "#files are loaded in data frame.\n",
        "import pandas as pd\n",
        "df_train = pd.read_csv('train_final_amino_acid_result.csv')\n",
        "df_test = pd.read_csv('valid_final_amino_acid_result.csv')\n",
        "\n",
        "#df_train_dipep = pd.read_csv('final_dipeptide_result_train.csv')\n",
        "#df_test_dipep = pd.read_csv('final_dipeptide_result_valid.csv')"
      ],
      "execution_count": null,
      "outputs": []
    },
    {
      "cell_type": "code",
      "metadata": {
        "id": "pmrPirhoDa2d"
      },
      "source": [
        "#test labels\n",
        "import pandas as pd\n",
        "#merging of dipeptide and amino acid \n",
        "#df_train = pd.read_csv('merged_train.csv')\n",
        "#df_test = pd.read_csv('merged_test.csv')\n",
        "\n",
        "del df_train['ID']\n",
        "#test labels \n",
        "test_labels=df_test['ID']\n",
        "del df_test['ID']\n"
      ],
      "execution_count": null,
      "outputs": []
    },
    {
      "cell_type": "code",
      "metadata": {
        "id": "MqfZyrlscfKt",
        "outputId": "33ca1651-9be1-4121-a637-efe38af37414",
        "colab": {
          "base_uri": "https://localhost:8080/",
          "height": 407
        }
      },
      "source": [
        "#train data\n",
        "df_train"
      ],
      "execution_count": null,
      "outputs": [
        {
          "output_type": "execute_result",
          "data": {
            "text/html": [
              "<div>\n",
              "<style scoped>\n",
              "    .dataframe tbody tr th:only-of-type {\n",
              "        vertical-align: middle;\n",
              "    }\n",
              "\n",
              "    .dataframe tbody tr th {\n",
              "        vertical-align: top;\n",
              "    }\n",
              "\n",
              "    .dataframe thead th {\n",
              "        text-align: right;\n",
              "    }\n",
              "</style>\n",
              "<table border=\"1\" class=\"dataframe\">\n",
              "  <thead>\n",
              "    <tr style=\"text-align: right;\">\n",
              "      <th></th>\n",
              "      <th>AAC_A</th>\n",
              "      <th>AAC_C</th>\n",
              "      <th>AAC_D</th>\n",
              "      <th>AAC_E</th>\n",
              "      <th>AAC_F</th>\n",
              "      <th>AAC_G</th>\n",
              "      <th>AAC_H</th>\n",
              "      <th>AAC_I</th>\n",
              "      <th>AAC_K</th>\n",
              "      <th>AAC_L</th>\n",
              "      <th>AAC_M</th>\n",
              "      <th>AAC_N</th>\n",
              "      <th>AAC_P</th>\n",
              "      <th>AAC_Q</th>\n",
              "      <th>AAC_R</th>\n",
              "      <th>AAC_S</th>\n",
              "      <th>AAC_T</th>\n",
              "      <th>AAC_V</th>\n",
              "      <th>AAC_W</th>\n",
              "      <th>AAC_Y</th>\n",
              "      <th>Type</th>\n",
              "    </tr>\n",
              "  </thead>\n",
              "  <tbody>\n",
              "    <tr>\n",
              "      <th>0</th>\n",
              "      <td>9.42</td>\n",
              "      <td>0.00</td>\n",
              "      <td>7.97</td>\n",
              "      <td>9.42</td>\n",
              "      <td>0.72</td>\n",
              "      <td>7.25</td>\n",
              "      <td>2.17</td>\n",
              "      <td>5.07</td>\n",
              "      <td>4.35</td>\n",
              "      <td>17.39</td>\n",
              "      <td>4.35</td>\n",
              "      <td>2.90</td>\n",
              "      <td>5.07</td>\n",
              "      <td>2.17</td>\n",
              "      <td>2.90</td>\n",
              "      <td>6.52</td>\n",
              "      <td>4.35</td>\n",
              "      <td>7.25</td>\n",
              "      <td>0.00</td>\n",
              "      <td>0.72</td>\n",
              "      <td>DNA</td>\n",
              "    </tr>\n",
              "    <tr>\n",
              "      <th>1</th>\n",
              "      <td>17.46</td>\n",
              "      <td>1.59</td>\n",
              "      <td>0.00</td>\n",
              "      <td>7.94</td>\n",
              "      <td>0.00</td>\n",
              "      <td>1.59</td>\n",
              "      <td>6.35</td>\n",
              "      <td>3.17</td>\n",
              "      <td>6.35</td>\n",
              "      <td>7.94</td>\n",
              "      <td>1.59</td>\n",
              "      <td>4.76</td>\n",
              "      <td>3.17</td>\n",
              "      <td>7.94</td>\n",
              "      <td>9.52</td>\n",
              "      <td>7.94</td>\n",
              "      <td>4.76</td>\n",
              "      <td>4.76</td>\n",
              "      <td>1.59</td>\n",
              "      <td>1.59</td>\n",
              "      <td>DNA</td>\n",
              "    </tr>\n",
              "    <tr>\n",
              "      <th>2</th>\n",
              "      <td>6.90</td>\n",
              "      <td>6.90</td>\n",
              "      <td>6.90</td>\n",
              "      <td>3.45</td>\n",
              "      <td>3.45</td>\n",
              "      <td>3.45</td>\n",
              "      <td>6.90</td>\n",
              "      <td>6.90</td>\n",
              "      <td>0.00</td>\n",
              "      <td>3.45</td>\n",
              "      <td>0.00</td>\n",
              "      <td>0.00</td>\n",
              "      <td>6.90</td>\n",
              "      <td>0.00</td>\n",
              "      <td>20.69</td>\n",
              "      <td>10.34</td>\n",
              "      <td>6.90</td>\n",
              "      <td>3.45</td>\n",
              "      <td>0.00</td>\n",
              "      <td>3.45</td>\n",
              "      <td>DNA</td>\n",
              "    </tr>\n",
              "    <tr>\n",
              "      <th>3</th>\n",
              "      <td>5.43</td>\n",
              "      <td>2.17</td>\n",
              "      <td>2.72</td>\n",
              "      <td>6.52</td>\n",
              "      <td>2.72</td>\n",
              "      <td>8.70</td>\n",
              "      <td>3.26</td>\n",
              "      <td>4.35</td>\n",
              "      <td>8.15</td>\n",
              "      <td>9.24</td>\n",
              "      <td>2.72</td>\n",
              "      <td>2.17</td>\n",
              "      <td>7.61</td>\n",
              "      <td>5.98</td>\n",
              "      <td>7.07</td>\n",
              "      <td>8.15</td>\n",
              "      <td>3.80</td>\n",
              "      <td>7.07</td>\n",
              "      <td>0.00</td>\n",
              "      <td>2.17</td>\n",
              "      <td>DNA</td>\n",
              "    </tr>\n",
              "    <tr>\n",
              "      <th>4</th>\n",
              "      <td>6.17</td>\n",
              "      <td>4.94</td>\n",
              "      <td>2.47</td>\n",
              "      <td>3.09</td>\n",
              "      <td>2.47</td>\n",
              "      <td>11.73</td>\n",
              "      <td>6.79</td>\n",
              "      <td>3.70</td>\n",
              "      <td>2.47</td>\n",
              "      <td>8.64</td>\n",
              "      <td>0.00</td>\n",
              "      <td>6.17</td>\n",
              "      <td>8.02</td>\n",
              "      <td>4.94</td>\n",
              "      <td>4.32</td>\n",
              "      <td>3.09</td>\n",
              "      <td>6.79</td>\n",
              "      <td>8.64</td>\n",
              "      <td>3.09</td>\n",
              "      <td>2.47</td>\n",
              "      <td>DNA</td>\n",
              "    </tr>\n",
              "    <tr>\n",
              "      <th>...</th>\n",
              "      <td>...</td>\n",
              "      <td>...</td>\n",
              "      <td>...</td>\n",
              "      <td>...</td>\n",
              "      <td>...</td>\n",
              "      <td>...</td>\n",
              "      <td>...</td>\n",
              "      <td>...</td>\n",
              "      <td>...</td>\n",
              "      <td>...</td>\n",
              "      <td>...</td>\n",
              "      <td>...</td>\n",
              "      <td>...</td>\n",
              "      <td>...</td>\n",
              "      <td>...</td>\n",
              "      <td>...</td>\n",
              "      <td>...</td>\n",
              "      <td>...</td>\n",
              "      <td>...</td>\n",
              "      <td>...</td>\n",
              "      <td>...</td>\n",
              "    </tr>\n",
              "    <tr>\n",
              "      <th>3044</th>\n",
              "      <td>5.84</td>\n",
              "      <td>1.08</td>\n",
              "      <td>6.06</td>\n",
              "      <td>5.84</td>\n",
              "      <td>5.84</td>\n",
              "      <td>6.49</td>\n",
              "      <td>0.87</td>\n",
              "      <td>4.98</td>\n",
              "      <td>9.09</td>\n",
              "      <td>11.47</td>\n",
              "      <td>1.95</td>\n",
              "      <td>3.90</td>\n",
              "      <td>3.46</td>\n",
              "      <td>4.11</td>\n",
              "      <td>3.90</td>\n",
              "      <td>9.31</td>\n",
              "      <td>4.33</td>\n",
              "      <td>6.93</td>\n",
              "      <td>0.22</td>\n",
              "      <td>4.33</td>\n",
              "      <td>NDNA</td>\n",
              "    </tr>\n",
              "    <tr>\n",
              "      <th>3045</th>\n",
              "      <td>8.30</td>\n",
              "      <td>2.40</td>\n",
              "      <td>6.99</td>\n",
              "      <td>7.42</td>\n",
              "      <td>3.06</td>\n",
              "      <td>8.52</td>\n",
              "      <td>1.75</td>\n",
              "      <td>6.55</td>\n",
              "      <td>6.77</td>\n",
              "      <td>5.68</td>\n",
              "      <td>4.37</td>\n",
              "      <td>2.62</td>\n",
              "      <td>3.93</td>\n",
              "      <td>2.84</td>\n",
              "      <td>3.71</td>\n",
              "      <td>6.11</td>\n",
              "      <td>7.21</td>\n",
              "      <td>7.21</td>\n",
              "      <td>1.09</td>\n",
              "      <td>3.49</td>\n",
              "      <td>NDNA</td>\n",
              "    </tr>\n",
              "    <tr>\n",
              "      <th>3046</th>\n",
              "      <td>6.19</td>\n",
              "      <td>3.19</td>\n",
              "      <td>4.19</td>\n",
              "      <td>7.98</td>\n",
              "      <td>4.59</td>\n",
              "      <td>6.19</td>\n",
              "      <td>2.59</td>\n",
              "      <td>4.79</td>\n",
              "      <td>9.18</td>\n",
              "      <td>7.78</td>\n",
              "      <td>1.40</td>\n",
              "      <td>3.79</td>\n",
              "      <td>3.39</td>\n",
              "      <td>3.79</td>\n",
              "      <td>2.99</td>\n",
              "      <td>11.38</td>\n",
              "      <td>6.59</td>\n",
              "      <td>4.79</td>\n",
              "      <td>1.60</td>\n",
              "      <td>3.59</td>\n",
              "      <td>NDNA</td>\n",
              "    </tr>\n",
              "    <tr>\n",
              "      <th>3047</th>\n",
              "      <td>9.40</td>\n",
              "      <td>3.36</td>\n",
              "      <td>2.68</td>\n",
              "      <td>4.03</td>\n",
              "      <td>1.34</td>\n",
              "      <td>9.40</td>\n",
              "      <td>2.01</td>\n",
              "      <td>2.68</td>\n",
              "      <td>2.68</td>\n",
              "      <td>8.05</td>\n",
              "      <td>1.34</td>\n",
              "      <td>3.36</td>\n",
              "      <td>8.72</td>\n",
              "      <td>6.04</td>\n",
              "      <td>14.77</td>\n",
              "      <td>8.05</td>\n",
              "      <td>3.36</td>\n",
              "      <td>3.36</td>\n",
              "      <td>3.36</td>\n",
              "      <td>2.01</td>\n",
              "      <td>NDNA</td>\n",
              "    </tr>\n",
              "    <tr>\n",
              "      <th>3048</th>\n",
              "      <td>5.26</td>\n",
              "      <td>3.95</td>\n",
              "      <td>1.32</td>\n",
              "      <td>3.95</td>\n",
              "      <td>5.26</td>\n",
              "      <td>2.63</td>\n",
              "      <td>0.00</td>\n",
              "      <td>3.95</td>\n",
              "      <td>2.63</td>\n",
              "      <td>18.42</td>\n",
              "      <td>1.32</td>\n",
              "      <td>6.58</td>\n",
              "      <td>2.63</td>\n",
              "      <td>0.00</td>\n",
              "      <td>2.63</td>\n",
              "      <td>9.21</td>\n",
              "      <td>6.58</td>\n",
              "      <td>18.42</td>\n",
              "      <td>0.00</td>\n",
              "      <td>5.26</td>\n",
              "      <td>NDNA</td>\n",
              "    </tr>\n",
              "  </tbody>\n",
              "</table>\n",
              "<p>3049 rows × 21 columns</p>\n",
              "</div>"
            ],
            "text/plain": [
              "      AAC_A  AAC_C  AAC_D  AAC_E  AAC_F  ...  AAC_T  AAC_V  AAC_W  AAC_Y  Type\n",
              "0      9.42   0.00   7.97   9.42   0.72  ...   4.35   7.25   0.00   0.72   DNA\n",
              "1     17.46   1.59   0.00   7.94   0.00  ...   4.76   4.76   1.59   1.59   DNA\n",
              "2      6.90   6.90   6.90   3.45   3.45  ...   6.90   3.45   0.00   3.45   DNA\n",
              "3      5.43   2.17   2.72   6.52   2.72  ...   3.80   7.07   0.00   2.17   DNA\n",
              "4      6.17   4.94   2.47   3.09   2.47  ...   6.79   8.64   3.09   2.47   DNA\n",
              "...     ...    ...    ...    ...    ...  ...    ...    ...    ...    ...   ...\n",
              "3044   5.84   1.08   6.06   5.84   5.84  ...   4.33   6.93   0.22   4.33  NDNA\n",
              "3045   8.30   2.40   6.99   7.42   3.06  ...   7.21   7.21   1.09   3.49  NDNA\n",
              "3046   6.19   3.19   4.19   7.98   4.59  ...   6.59   4.79   1.60   3.59  NDNA\n",
              "3047   9.40   3.36   2.68   4.03   1.34  ...   3.36   3.36   3.36   2.01  NDNA\n",
              "3048   5.26   3.95   1.32   3.95   5.26  ...   6.58  18.42   0.00   5.26  NDNA\n",
              "\n",
              "[3049 rows x 21 columns]"
            ]
          },
          "metadata": {
            "tags": []
          },
          "execution_count": 12
        }
      ]
    },
    {
      "cell_type": "code",
      "metadata": {
        "id": "-FQwzLL1EBkW"
      },
      "source": [
        "#label encoding to convert (1,-1) labels to (0,1) by preprocessing\n",
        "from sklearn import preprocessing  \n",
        "label_encoder = preprocessing.LabelEncoder() \n",
        "df_train['Type']= label_encoder.fit_transform(df_train['Type'])"
      ],
      "execution_count": null,
      "outputs": []
    },
    {
      "cell_type": "code",
      "metadata": {
        "id": "o7WWwYDCB0rV",
        "outputId": "c4b3c9dd-533a-4c9b-ba85-08ca9774fec9",
        "colab": {
          "base_uri": "https://localhost:8080/"
        }
      },
      "source": [
        "#label maping of classes {'DNA': 0, 'NDNA': 1}\n",
        "label_mapping = dict(zip(label_encoder.classes_, label_encoder.transform(label_encoder.classes_)))\n",
        "label_mapping"
      ],
      "execution_count": null,
      "outputs": [
        {
          "output_type": "execute_result",
          "data": {
            "text/plain": [
              "{'DNA': 0, 'NDNA': 1}"
            ]
          },
          "metadata": {
            "tags": []
          },
          "execution_count": 14
        }
      ]
    },
    {
      "cell_type": "code",
      "metadata": {
        "id": "os24QvtnHxAe"
      },
      "source": [
        "#X is train data\n",
        "#y is target column\n",
        "X = df_train.iloc[:,:-1]\n",
        "y = df_train['Type']\n",
        "# split test train data where test is 20% and train is 80%\n",
        "from sklearn.model_selection import train_test_split\n",
        "X_train, X_valid, y_train, y_valid = train_test_split(X, y, test_size=0.2,shuffle=True)"
      ],
      "execution_count": null,
      "outputs": []
    },
    {
      "cell_type": "code",
      "metadata": {
        "id": "CBqcbXukbV3z"
      },
      "source": [
        "#Merged data\n",
        "X1 = df_train1.iloc[:,:-1]\n",
        "y1 = df_train1['Type']\n",
        "from sklearn.model_selection import train_test_split\n",
        "X_train1, X_valid1, y_train1, y_valid1 = train_test_split(X1, y1, test_size=0.2,shuffle=True)\n"
      ],
      "execution_count": null,
      "outputs": []
    },
    {
      "cell_type": "markdown",
      "metadata": {
        "id": "8yVbQ6ef382i"
      },
      "source": [
        "SVM Model"
      ]
    },
    {
      "cell_type": "code",
      "metadata": {
        "id": "5PlxgQ4JO5wJ",
        "outputId": "76e0772d-ba94-422a-c398-aed6f9e51bbf",
        "colab": {
          "base_uri": "https://localhost:8080/"
        }
      },
      "source": [
        "#SVM model over train data\n",
        "from sklearn.preprocessing import StandardScaler\n",
        "from sklearn import svm\n",
        "from sklearn import metrics\n",
        "scaler = StandardScaler()\n",
        "X_train = scaler.fit_transform(X_train)\n",
        "X_valid = scaler.transform(X_valid)\n",
        "\n",
        "svc = svm.SVC(kernel='linear', C=500, gamma=3).fit(X_train, y_train)\n",
        "y_pred_svm = svc.predict(X_valid)\n",
        "\n",
        "print('Accuracy on test set: ', metrics.accuracy_score(y_valid, y_pred_svm))"
      ],
      "execution_count": null,
      "outputs": [
        {
          "output_type": "stream",
          "text": [
            "Accuracy on test set:  0.7065573770491803\n"
          ],
          "name": "stdout"
        }
      ]
    },
    {
      "cell_type": "code",
      "metadata": {
        "id": "Ssp6wO9yNF36"
      },
      "source": [
        "# Akku's output2.csv result is obtained on commenting X_train, X_valid, y_train, y_valid = train_test_split(X, y, test_size=0.2,shuffle=True) line\n",
        "# SVM Model where cross validation of K-Fold is applied\n",
        "from sklearn.preprocessing import StandardScaler\n",
        "from sklearn.model_selection import cross_val_score\n",
        "from sklearn import svm\n",
        "scaler = StandardScaler()\n",
        "X = scaler.fit_transform(X)\n",
        "svc = svm.SVC(kernel='linear', C=500,gamma='auto').fit(X, y)\n",
        "scores = cross_val_score(svc, X, y, cv=10)\n",
        "# from sklearn import metrics\n",
        "# print(\"Accuracy:\",metrics.accuracy_score(y_valid, y_pred))"
      ],
      "execution_count": null,
      "outputs": []
    },
    {
      "cell_type": "code",
      "metadata": {
        "id": "-jGJxi8bKAQp",
        "outputId": "fdd92fa1-ec60-4289-d1a4-56fc468b673c",
        "colab": {
          "base_uri": "https://localhost:8080/"
        }
      },
      "source": [
        "#use this for svm for checking cross validation score\n",
        "sum(scores)/len(scores)"
      ],
      "execution_count": null,
      "outputs": [
        {
          "output_type": "execute_result",
          "data": {
            "text/plain": [
              "0.7018647540983608"
            ]
          },
          "metadata": {
            "tags": []
          },
          "execution_count": 22
        }
      ]
    },
    {
      "cell_type": "code",
      "metadata": {
        "id": "3T9asfB3Dz2D"
      },
      "source": [
        "#predicting for test data\n",
        "svc = svm.SVC(kernel='linear', C=500, gamma=3).fit(X, y)\n",
        "df_test=scaler.transform(df_test)\n",
        "y_pred=svc.predict(df_test)"
      ],
      "execution_count": null,
      "outputs": []
    },
    {
      "cell_type": "code",
      "metadata": {
        "id": "veTuLyE1EUo5",
        "outputId": "8db9c8aa-13c7-4005-c3c6-c2e95288436d",
        "colab": {
          "base_uri": "https://localhost:8080/"
        }
      },
      "source": [
        "y_pred"
      ],
      "execution_count": null,
      "outputs": [
        {
          "output_type": "execute_result",
          "data": {
            "text/plain": [
              "array([0, 0, 0, ..., 0, 0, 0])"
            ]
          },
          "metadata": {
            "tags": []
          },
          "execution_count": 52
        }
      ]
    },
    {
      "cell_type": "code",
      "metadata": {
        "id": "WMeslCEEEyYF"
      },
      "source": [
        "# DNA=1, NDA=-1"
      ],
      "execution_count": null,
      "outputs": []
    },
    {
      "cell_type": "code",
      "metadata": {
        "id": "18fkUd0eGtyF"
      },
      "source": [
        "# label encoding again where 0 is encoded to 1 and 1 is encoded to -1.\n",
        "y_pred_temp=[]\n",
        "for i in y_pred:\n",
        "  if i==0:\n",
        "    y_pred_temp.append(1)\n",
        "  else:\n",
        "    y_pred_temp.append(-1)"
      ],
      "execution_count": null,
      "outputs": []
    },
    {
      "cell_type": "code",
      "metadata": {
        "id": "LWN-mgTcMA44"
      },
      "source": [
        "#copying to sample file\n",
        "#conversion into output file with 2 column [ID,Labels]\n",
        "data_res=pd.DataFrame()\n",
        "data_res['ID']=test_labels\n",
        "data_res['Lable']=y_pred_temp\n",
        "data_res.to_csv (r'new_svm_output.csv', index = False, header=True)"
      ],
      "execution_count": null,
      "outputs": []
    },
    {
      "cell_type": "markdown",
      "metadata": {
        "id": "j0F07dju9Olj"
      },
      "source": [
        ""
      ]
    },
    {
      "cell_type": "markdown",
      "metadata": {
        "id": "Vbb18cTe5q8K"
      },
      "source": [
        "Random Forest Model(Ensembling)"
      ]
    },
    {
      "cell_type": "code",
      "metadata": {
        "id": "UclXSrHqTNyr",
        "outputId": "f0663bb8-c282-40ff-ee87-00b12058e847",
        "colab": {
          "base_uri": "https://localhost:8080/"
        }
      },
      "source": [
        "# Random Forest along wiht k-fold 10 cross validation.\n",
        "from sklearn.ensemble import RandomForestClassifier\n",
        "from sklearn import model_selection\n",
        "from sklearn.metrics import accuracy_score, roc_auc_score\n",
        "#cross validation\n",
        "kfold = model_selection.KFold(n_splits=10, random_state=5)\n",
        "clf = RandomForestClassifier(n_estimators=135, random_state=None, n_jobs=4, criterion='entropy', max_features='auto')\n",
        "clf.fit(X_train, y_train)\n",
        "y_pred_rf = clf.predict(X_valid)\n",
        "results = model_selection.cross_val_score(clf, X_train, y_train, cv=kfold)\n",
        "print(results.mean())\n",
        "\n",
        "#print('Accuracy on test set: ', accuracy_score(y_valid, y_pred_rf))"
      ],
      "execution_count": null,
      "outputs": [
        {
          "output_type": "stream",
          "text": [
            "/usr/local/lib/python3.6/dist-packages/sklearn/model_selection/_split.py:296: FutureWarning: Setting a random_state has no effect since shuffle is False. This will raise an error in 0.24. You should leave random_state to its default (None), or set shuffle=True.\n",
            "  FutureWarning\n"
          ],
          "name": "stderr"
        },
        {
          "output_type": "stream",
          "text": [
            "0.717523443297578\n"
          ],
          "name": "stdout"
        }
      ]
    },
    {
      "cell_type": "code",
      "metadata": {
        "id": "8x3iYwFGyFWd"
      },
      "source": [
        "#\n",
        "y_pred=clf.predict(df_test)"
      ],
      "execution_count": null,
      "outputs": []
    },
    {
      "cell_type": "code",
      "metadata": {
        "id": "nm-FLtcswOAZ",
        "outputId": "ab2571be-554b-4d38-a8b1-228cc5436054",
        "colab": {
          "base_uri": "https://localhost:8080/"
        }
      },
      "source": [
        "print(len(y_pred))"
      ],
      "execution_count": null,
      "outputs": [
        {
          "output_type": "stream",
          "text": [
            "1071\n"
          ],
          "name": "stdout"
        }
      ]
    },
    {
      "cell_type": "code",
      "metadata": {
        "id": "6tkXSyNmwzpt"
      },
      "source": [
        "# label encoding again where 0 is encoded to 1 and 1 is encoded to -1.\n",
        "y_pred_temp_rf=[]\n",
        "for i in y_pred:\n",
        "  if i==0:\n",
        "    y_pred_temp_rf.append(1)\n",
        "  else:\n",
        "    y_pred_temp_rf.append(-1)"
      ],
      "execution_count": null,
      "outputs": []
    },
    {
      "cell_type": "code",
      "metadata": {
        "id": "nemidZn0w8BI"
      },
      "source": [
        "#copying to sample file\n",
        "data_res=pd.DataFrame()\n",
        "data_res['ID']=test_labels\n",
        "data_res['Lable']=y_pred_temp_rf\n",
        "data_res.to_csv (r'output3_RF.csv', index = False,header=True)"
      ],
      "execution_count": null,
      "outputs": []
    },
    {
      "cell_type": "markdown",
      "metadata": {
        "id": "jadUd0EC6ezm"
      },
      "source": [
        "MLP Classifier Model:"
      ]
    },
    {
      "cell_type": "code",
      "metadata": {
        "id": "BF_nXBBmzHZT",
        "outputId": "daa04556-32f1-4a24-8d9b-d263dd3a6c00",
        "colab": {
          "base_uri": "https://localhost:8080/"
        }
      },
      "source": [
        "#MLP\n",
        "from sklearn.neural_network import MLPClassifier\n",
        "clf_mlp=MLPClassifier(alpha=1e-05, hidden_layer_sizes=(150,120), random_state=1,\n",
        "            solver='lbfgs')\n",
        "clf_mlp.fit(X_train, y_train)\n",
        "y_pred_mlp = clf_mlp.predict(X_valid)\n",
        "print('Accuracy on valid set: ', accuracy_score(y_valid, y_pred_mlp))"
      ],
      "execution_count": null,
      "outputs": [
        {
          "output_type": "stream",
          "text": [
            "Accuracy on valid set:  0.6983606557377049\n"
          ],
          "name": "stdout"
        },
        {
          "output_type": "stream",
          "text": [
            "/usr/local/lib/python3.6/dist-packages/sklearn/neural_network/_multilayer_perceptron.py:470: ConvergenceWarning: lbfgs failed to converge (status=1):\n",
            "STOP: TOTAL NO. of ITERATIONS REACHED LIMIT.\n",
            "\n",
            "Increase the number of iterations (max_iter) or scale the data as shown in:\n",
            "    https://scikit-learn.org/stable/modules/preprocessing.html\n",
            "  self.n_iter_ = _check_optimize_result(\"lbfgs\", opt_res, self.max_iter)\n"
          ],
          "name": "stderr"
        }
      ]
    },
    {
      "cell_type": "markdown",
      "metadata": {
        "id": "89H4PS146k1S"
      },
      "source": [
        "Naive Bayes Classifier Model:"
      ]
    },
    {
      "cell_type": "code",
      "metadata": {
        "id": "zVwjdK6TzH2N",
        "outputId": "c4252add-e7fa-43d2-f376-c4cc2bb53170",
        "colab": {
          "base_uri": "https://localhost:8080/"
        }
      },
      "source": [
        "# Naive Bayes\n",
        "from sklearn.naive_bayes import GaussianNB\n",
        "clf = GaussianNB()\n",
        "clf.fit(X_train, y_train)\n",
        "y_pred = clf.predict(X_valid)\n",
        "print('Accuracy on test set: ', accuracy_score(y_valid, y_pred))"
      ],
      "execution_count": null,
      "outputs": [
        {
          "output_type": "stream",
          "text": [
            "Accuracy on test set:  0.6672131147540984\n"
          ],
          "name": "stdout"
        }
      ]
    },
    {
      "cell_type": "markdown",
      "metadata": {
        "id": "nf27JGBV6oRo"
      },
      "source": [
        "AdaBoost Model:"
      ]
    },
    {
      "cell_type": "code",
      "metadata": {
        "id": "Mv4EwcAgzIB-",
        "outputId": "4850c5d6-6b96-4f40-b5e6-37a4fc32c840",
        "colab": {
          "base_uri": "https://localhost:8080/"
        }
      },
      "source": [
        "#Adaboost\n",
        "import pandas\n",
        "from sklearn import model_selection\n",
        "from sklearn.ensemble import AdaBoostClassifier\n",
        "seed = 7\n",
        "num_trees = 30\n",
        "kfold = model_selection.KFold(n_splits=10, random_state=seed)\n",
        "model = AdaBoostClassifier(n_estimators=num_trees, random_state=seed)\n",
        "results = model_selection.cross_val_score(model, X_train, y_train, cv=kfold)\n",
        "print(results.mean())"
      ],
      "execution_count": null,
      "outputs": [
        {
          "output_type": "stream",
          "text": [
            "/usr/local/lib/python3.6/dist-packages/sklearn/model_selection/_split.py:296: FutureWarning: Setting a random_state has no effect since shuffle is False. This will raise an error in 0.24. You should leave random_state to its default (None), or set shuffle=True.\n",
            "  FutureWarning\n"
          ],
          "name": "stderr"
        },
        {
          "output_type": "stream",
          "text": [
            "0.6720130877690076\n"
          ],
          "name": "stdout"
        }
      ]
    },
    {
      "cell_type": "markdown",
      "metadata": {
        "id": "dTv-fuiG6skc"
      },
      "source": [
        "ExtraTree Classifier Model:"
      ]
    },
    {
      "cell_type": "code",
      "metadata": {
        "id": "Ki7r4nkZzIPY",
        "outputId": "462a77d1-6523-4188-f3ac-1925f82f6dd7",
        "colab": {
          "base_uri": "https://localhost:8080/"
        }
      },
      "source": [
        "import pandas\n",
        "from sklearn import model_selection\n",
        "from sklearn.ensemble import ExtraTreesClassifier\n",
        "\n",
        "seed = 9\n",
        "num_trees = 120\n",
        "max_features = 8\n",
        "kfold = model_selection.KFold(n_splits=10, random_state=seed)\n",
        "model1 = ExtraTreesClassifier(n_estimators=num_trees, criterion='gini',min_samples_split=2, max_features=max_features, min_samples_leaf=1, min_weight_fraction_leaf=0, max_leaf_nodes=None, min_impurity_decrease=0.0, min_impurity_split=None, bootstrap=False, oob_score=False, n_jobs=-1, random_state=False, verbose=0, warm_start=False, class_weight=None, ccp_alpha=0, max_samples=None)\n",
        "results = model_selection.cross_val_score(model1, X_train, y_train, cv=kfold)\n",
        "print(results.mean())"
      ],
      "execution_count": null,
      "outputs": [
        {
          "output_type": "stream",
          "text": [
            "/usr/local/lib/python3.6/dist-packages/sklearn/model_selection/_split.py:296: FutureWarning: Setting a random_state has no effect since shuffle is False. This will raise an error in 0.24. You should leave random_state to its default (None), or set shuffle=True.\n",
            "  FutureWarning\n"
          ],
          "name": "stderr"
        },
        {
          "output_type": "stream",
          "text": [
            "0.7244940295486743\n"
          ],
          "name": "stdout"
        }
      ]
    },
    {
      "cell_type": "code",
      "metadata": {
        "id": "lfDYM0bDVJaK"
      },
      "source": [
        "model1.fit(X_train, y_train)\n",
        "y_pred=model1.predict(df_test)"
      ],
      "execution_count": null,
      "outputs": []
    },
    {
      "cell_type": "code",
      "metadata": {
        "id": "36v52OQjExj5"
      },
      "source": [
        "y_pred_temp_rf=[]\n",
        "for i in y_pred:\n",
        "  if i==0:\n",
        "    y_pred_temp_rf.append(1)\n",
        "  else:\n",
        "    y_pred_temp_rf.append(-1)"
      ],
      "execution_count": null,
      "outputs": []
    },
    {
      "cell_type": "code",
      "metadata": {
        "id": "cgCsWq7NE08T"
      },
      "source": [
        "#copying to sample file\n",
        "data_res=pd.DataFrame()\n",
        "data_res['ID']=test_labels\n",
        "data_res['Lable']=y_pred_temp_rf\n",
        "data_res.to_csv (r'output4_ETC.csv', index = False,header=True)"
      ],
      "execution_count": null,
      "outputs": []
    },
    {
      "cell_type": "code",
      "metadata": {
        "id": "jLrz0oTqay9O"
      },
      "source": [
        ""
      ],
      "execution_count": null,
      "outputs": []
    },
    {
      "cell_type": "markdown",
      "metadata": {
        "id": "TALUVW0s67Hx"
      },
      "source": [
        "Voting Classifier Model:"
      ]
    },
    {
      "cell_type": "code",
      "metadata": {
        "id": "-n25aZbbG8vC",
        "outputId": "8f220051-0bdf-4a16-a03d-d83375691f09",
        "colab": {
          "base_uri": "https://localhost:8080/"
        }
      },
      "source": [
        "#Voting classifier\n",
        "import pandas\n",
        "from sklearn import model_selection\n",
        "from sklearn.linear_model import LogisticRegression\n",
        "from sklearn.tree import DecisionTreeClassifier\n",
        "from sklearn.svm import SVC\n",
        "from sklearn.ensemble import VotingClassifier\n",
        "seed = 7\n",
        "kfold = model_selection.KFold(n_splits=5, random_state=seed)\n",
        "# create the sub models\n",
        "estimators = []\n",
        "#estimators.append(('mlp',clf_mlp))\n",
        "#estimators.append(('svm',svc))\n",
        "estimators.append(('randomforest',clf))\n",
        "#estimators.append(('adaboost',model))\n",
        "estimators.append(('Extratreeclassifier',model1))\n",
        "# create the ensemble model\n",
        "ensemble = VotingClassifier(estimators)\n",
        "results = model_selection.cross_val_score(ensemble, X, y, cv=kfold)\n",
        "print(results.mean())"
      ],
      "execution_count": null,
      "outputs": [
        {
          "output_type": "stream",
          "text": [
            "/usr/local/lib/python3.6/dist-packages/sklearn/model_selection/_split.py:296: FutureWarning: Setting a random_state has no effect since shuffle is False. This will raise an error in 0.24. You should leave random_state to its default (None), or set shuffle=True.\n",
            "  FutureWarning\n"
          ],
          "name": "stderr"
        },
        {
          "output_type": "stream",
          "text": [
            "0.522752160219656\n"
          ],
          "name": "stdout"
        }
      ]
    },
    {
      "cell_type": "markdown",
      "metadata": {
        "id": "aIYignm87ZpQ"
      },
      "source": [
        "KNN Classifier:"
      ]
    },
    {
      "cell_type": "code",
      "metadata": {
        "id": "Q2XDL29T7Y2P"
      },
      "source": [
        "from sklearn.neighbors import KNeighborsClassifier\n",
        "neigh = KNeighborsClassifier(n_neighbors=21)\n",
        "neigh.fit(X, y)\n",
        "kfold = model_selection.KFold(n_splits=10, random_state=42)\n",
        "neigh.fit(X, y)\n",
        "results = model_selection.cross_val_score(clf, X, y, cv=kfold)\n",
        "print(results.mean())"
      ],
      "execution_count": null,
      "outputs": []
    },
    {
      "cell_type": "markdown",
      "metadata": {
        "id": "3pWdHJ4P7dd0"
      },
      "source": [
        "XGBoost Classifier:"
      ]
    },
    {
      "cell_type": "code",
      "metadata": {
        "id": "VGnY2NZZ7eEC"
      },
      "source": [
        "from sklearn.ensemble import GradientBoostingClassifier\n",
        "xgb = GradientBoostingClassifier( n_estimators=110, max_depth=70,max_features=110)\n",
        "xgb.fit(X, y)\n",
        "kfold = model_selection.KFold(n_splits=10, random_state=42)\n",
        "xgb.fit(X, y)\n",
        "results = model_selection.cross_val_score(clf, X, y, cv=kfold)\n",
        "print(results.mean())"
      ],
      "execution_count": null,
      "outputs": []
    },
    {
      "cell_type": "markdown",
      "metadata": {
        "id": "vGWew1mPLWza"
      },
      "source": [
        "Voting classifier:"
      ]
    },
    {
      "cell_type": "code",
      "metadata": {
        "id": "xRbxtTGAH9X2"
      },
      "source": [
        "eclf1 = VotingClassifier(estimators=[\n",
        "      ('gnb', clf), ('ext', model),('rnd',rdf),('ada',model2)], voting='soft')\n",
        "\n",
        "eclf1 = eclf1.fit(X, y)\n",
        "results = model_selection.cross_val_score(eclf1, X, y, cv=kfold)\n",
        "y_pred=eclf1.predict(df_test)\n",
        "results.mean()"
      ],
      "execution_count": null,
      "outputs": []
    },
    {
      "cell_type": "code",
      "metadata": {
        "id": "RAGH5n3qKt73"
      },
      "source": [
        "y_pred_temp_rf=[]\n",
        "for i in y_pred:\n",
        "  if i==0:\n",
        "    y_pred_temp_rf.append(1)\n",
        "  else:\n",
        "    y_pred_temp_rf.append(-1)"
      ],
      "execution_count": null,
      "outputs": []
    },
    {
      "cell_type": "code",
      "metadata": {
        "id": "Lp6W42TjQiBP"
      },
      "source": [
        "#copying to sample file\n",
        "data_res=pd.DataFrame()\n",
        "data_res['ID']=test_labels\n",
        "data_res['Lable']=y_pred_temp_rf\n",
        "data_res.to_csv (r'output_Major_voting2.csv', index = False,header=True)"
      ],
      "execution_count": null,
      "outputs": []
    },
    {
      "cell_type": "code",
      "metadata": {
        "id": "XBosxShgQtDM"
      },
      "source": [
        ""
      ],
      "execution_count": null,
      "outputs": []
    }
  ]
}